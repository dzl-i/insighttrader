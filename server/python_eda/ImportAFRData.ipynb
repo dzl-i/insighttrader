{
 "cells": [
  {
   "cell_type": "markdown",
   "metadata": {},
   "source": [
    "# Processing AFR data into a dataframe"
   ]
  },
  {
   "cell_type": "code",
   "execution_count": 2,
   "metadata": {},
   "outputs": [],
   "source": [
    "import pandas as pd\n",
    "from lxml import etree\n",
    "import io\n",
    "import json\n",
    "\n",
    "xml_data = open('datasets/AFR_20150101-20150131.xml').read()\n",
    "\n",
    "parser = etree.XMLParser(ns_clean=True)\n",
    "xml = etree.parse(io.StringIO(xml_data), parser)\n",
    "\n",
    "data = []\n",
    "\n",
    "for dossier in xml.xpath('//dcdossier'):\n",
    "    guid = dossier.get('guid')\n",
    "    modified = dossier.get('modified')\n",
    "    \n",
    "    for doc in dossier.xpath('.//document'):\n",
    "        newspaper_code = doc.xpath('.//NEWSPAPERCODE/text()')\n",
    "        section = doc.xpath('.//SECTION/text()')\n",
    "        story_name = doc.xpath('.//STORYNAME/text()')\n",
    "        publication_date = doc.xpath('.//PUBLICATIONDATE/text()')\n",
    "        newspaper = doc.xpath('.//NEWSPAPER/text()')\n",
    "        page_no = doc.xpath('.//PAGENO/text()')\n",
    "        byline = doc.xpath('.//BYLINE/text()')\n",
    "        classifications = doc.xpath('.//CLASSIFICATION/text()')\n",
    "        headline = doc.xpath('.//HEADLINE/text()')\n",
    "        intro = doc.xpath('.//INTRO/text()')\n",
    "        text = \" \".join(doc.xpath('.//TEXT//text()'))\n",
    "        \n",
    "        data.append({\n",
    "            'guid': guid,\n",
    "            'modified': modified,\n",
    "            'section': section[0].strip() if section else None,\n",
    "            'publication_date': publication_date[0] if publication_date else None,\n",
    "            'page_no': page_no[0].strip() if page_no else None,\n",
    "            'byline': byline[0].strip() if byline else None,\n",
    "            'classifications': classifications if classifications else None,\n",
    "            'headline': headline[0].strip() if headline else None,\n",
    "            'intro': intro[0].strip() if intro else None,\n",
    "            'text': text.strip() if text else None,\n",
    "        })\n",
    "\n",
    "df = pd.DataFrame(data)\n"
   ]
  },
  {
   "cell_type": "code",
   "execution_count": null,
   "metadata": {},
   "outputs": [],
   "source": [
    "\n",
    "df['modified'] = pd.to_datetime(df['modified'])"
   ]
  },
  {
   "cell_type": "code",
   "execution_count": 3,
   "metadata": {},
   "outputs": [],
   "source": [
    "df['publication_date'] = pd.to_datetime(df['publication_date'], errors='coerce')"
   ]
  },
  {
   "cell_type": "code",
   "execution_count": null,
   "metadata": {},
   "outputs": [],
   "source": [
    "print(df.head())"
   ]
  },
  {
   "cell_type": "code",
   "execution_count": 5,
   "metadata": {},
   "outputs": [],
   "source": [
    "\n",
    "def convert_to_adage_json(df):\n",
    "    adage_data_model = {\n",
    "        \"data_source\": \"Australian Financial Review\",\n",
    "        \"dataset_type\": \"News_Articles\",\n",
    "        \"dataset_id\": \"AFR_2015\",\n",
    "        \"time_object\": {\n",
    "            \"timestamp\": pd.Timestamp.now().isoformat(),\n",
    "            \"timezone\": \"GMT+11\"\n",
    "        },\n",
    "        \"events\": []\n",
    "    }\n",
    "    \n",
    "    for index, row in df.iterrows():\n",
    "        event = {\n",
    "            \"time_object\": {\n",
    "                \"timestamp\": row[\"modified\"].isoformat(),\n",
    "                \"duration\": 0,\n",
    "                \"duration_unit\": \"second\",\n",
    "                \"timezone\": \"GMT+11\"\n",
    "            },\n",
    "            \"event_type\": \"article\",\n",
    "            \"attribute\": {\n",
    "                \"guid\": row[\"guid\"],\n",
    "                \"byline\": row[\"byline\"],\n",
    "                \"headline\": row[\"headline\"],\n",
    "                \"section\": row[\"section\"],\n",
    "                \"publication_date\": row[\"publication_date\"].strftime(\"%Y-%m-%d\"),\n",
    "                \"page_no\": row[\"page_no\"],\n",
    "                \"classifications\": row[\"classifications\"],\n",
    "                \"text\": row.get(\"text\")\n",
    "            }\n",
    "        }\n",
    "        adage_data_model[\"events\"].append(event)\n",
    "    \n",
    "    adage_data_model[\"time_object\"][\"timestamp\"] = df[\"modified\"].max().isoformat()\n",
    "    \n",
    "    return json.dumps(adage_data_model, indent=4)"
   ]
  },
  {
   "cell_type": "code",
   "execution_count": null,
   "metadata": {},
   "outputs": [],
   "source": [
    "print(convert_to_adage_json(df))"
   ]
  },
  {
   "cell_type": "code",
   "execution_count": 7,
   "metadata": {},
   "outputs": [],
   "source": [
    "\n",
    "with open('AFR_2015.json', 'w') as f:\n",
    "    f.write(convert_to_adage_json(df))"
   ]
  }
 ],
 "metadata": {
  "kernelspec": {
   "display_name": "Python 3",
   "language": "python",
   "name": "python3"
  },
  "language_info": {
   "codemirror_mode": {
    "name": "ipython",
    "version": 3
   },
   "file_extension": ".py",
   "mimetype": "text/x-python",
   "name": "python",
   "nbconvert_exporter": "python",
   "pygments_lexer": "ipython3",
   "version": "3.12.2"
  }
 },
 "nbformat": 4,
 "nbformat_minor": 4
}
