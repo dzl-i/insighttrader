{
 "cells": [
  {
   "cell_type": "code",
   "execution_count": 1,
   "metadata": {},
   "outputs": [],
   "source": [
    "import pandas as pd\n",
    "from lxml import etree\n",
    "import io\n",
    "import json\n",
    "import matplotlib.pyplot as plt\n",
    "import nltk\n",
    "from nltk import ne_chunk\n",
    "from nltk.tokenize import sent_tokenize, word_tokenize\n",
    "from nltk.chunk import conlltags2tree, tree2conlltags, RegexpParser\n",
    "from nltk.corpus import stopwords\n",
    "from nltk.tag import pos_tag\n",
    "from nltk.stem import PorterStemmer\n",
    "from nltk.tree import Tree\n",
    "import numpy as np\n",
    "from wordcloud import WordCloud,STOPWORDS\n",
    "import string\n",
    "import re"
   ]
  },
  {
   "cell_type": "code",
   "execution_count": 2,
   "metadata": {},
   "outputs": [
    {
     "name": "stderr",
     "output_type": "stream",
     "text": [
      "[nltk_data] Downloading package stopwords to\n",
      "[nltk_data]     C:\\Users\\Ricardo\\AppData\\Roaming\\nltk_data...\n",
      "[nltk_data]   Package stopwords is already up-to-date!\n",
      "[nltk_data] Downloading package punkt to\n",
      "[nltk_data]     C:\\Users\\Ricardo\\AppData\\Roaming\\nltk_data...\n",
      "[nltk_data]   Package punkt is already up-to-date!\n",
      "[nltk_data] Downloading package averaged_perceptron_tagger to\n",
      "[nltk_data]     C:\\Users\\Ricardo\\AppData\\Roaming\\nltk_data...\n",
      "[nltk_data]   Package averaged_perceptron_tagger is already up-to-\n",
      "[nltk_data]       date!\n",
      "[nltk_data] Downloading package maxent_ne_chunker to\n",
      "[nltk_data]     C:\\Users\\Ricardo\\AppData\\Roaming\\nltk_data...\n",
      "[nltk_data]   Package maxent_ne_chunker is already up-to-date!\n",
      "[nltk_data] Downloading package words to\n",
      "[nltk_data]     C:\\Users\\Ricardo\\AppData\\Roaming\\nltk_data...\n",
      "[nltk_data]   Package words is already up-to-date!\n"
     ]
    },
    {
     "data": {
      "text/plain": [
       "True"
      ]
     },
     "execution_count": 2,
     "metadata": {},
     "output_type": "execute_result"
    }
   ],
   "source": [
    "nltk.download('stopwords')\n",
    "nltk.download('punkt')\n",
    "nltk.download('averaged_perceptron_tagger')\n",
    "nltk.download('maxent_ne_chunker')\n",
    "nltk.download('words')\n"
   ]
  },
  {
   "cell_type": "code",
   "execution_count": 3,
   "metadata": {},
   "outputs": [],
   "source": [
    "\n",
    "def convert_to_adage_json(df):\n",
    "    adage_data_model = {\n",
    "        \"data_source\": \"Australian Financial Review\",\n",
    "        \"dataset_type\": \"News_Articles\",\n",
    "        \"dataset_id\": \"AFR_2015\",\n",
    "        \"time_object\": {\n",
    "            \"timestamp\": pd.Timestamp.now().isoformat(),\n",
    "            \"timezone\": \"GMT+11\"\n",
    "        },\n",
    "        \"events\": []\n",
    "    }\n",
    "    \n",
    "    for index, row in df.iterrows():\n",
    "        event = {\n",
    "            \"time_object\": {\n",
    "                \"timestamp\": row[\"modified\"].isoformat(),\n",
    "                \"duration\": 0,\n",
    "                \"duration_unit\": \"second\",\n",
    "                \"timezone\": \"GMT+11\"\n",
    "            },\n",
    "            \"event_type\": \"article\",\n",
    "            \"attribute\": {\n",
    "                \"guid\": row[\"guid\"],\n",
    "                \"byline\": row[\"byline\"],\n",
    "                \"headline\": row[\"headline\"],\n",
    "                \"section\": row[\"section\"],\n",
    "                \"publication_date\": row[\"publication_date\"].strftime(\"%Y-%m-%d\"),\n",
    "                \"page_no\": row[\"page_no\"],\n",
    "                \"classifications\": row[\"classifications\"],\n",
    "                \"text\": row.get(\"text\")\n",
    "            }\n",
    "        }\n",
    "        adage_data_model[\"events\"].append(event)\n",
    "    \n",
    "    adage_data_model[\"time_object\"][\"timestamp\"] = df[\"modified\"].max().isoformat()\n",
    "    \n",
    "    return json.dumps(adage_data_model, indent=4)\n",
    "\n",
    "\n",
    "xml_data = open('datasets/AFR_20150101-20150131.xml').read()\n",
    "\n",
    "parser = etree.XMLParser(ns_clean=True)\n",
    "xml = etree.parse(io.StringIO(xml_data), parser)\n",
    "\n",
    "data = []\n",
    "\n",
    "for dossier in xml.xpath('//dcdossier'):\n",
    "    guid = dossier.get('guid')\n",
    "    modified = dossier.get('modified')\n",
    "    \n",
    "    for doc in dossier.xpath('.//document'):\n",
    "        newspaper_code = doc.xpath('.//NEWSPAPERCODE/text()')\n",
    "        section = doc.xpath('.//SECTION/text()')\n",
    "        story_name = doc.xpath('.//STORYNAME/text()')\n",
    "        publication_date = doc.xpath('.//PUBLICATIONDATE/text()')\n",
    "        newspaper = doc.xpath('.//NEWSPAPER/text()')\n",
    "        page_no = doc.xpath('.//PAGENO/text()')\n",
    "        byline = doc.xpath('.//BYLINE/text()')\n",
    "        classifications = doc.xpath('.//CLASSIFICATION/text()')\n",
    "        headline = doc.xpath('.//HEADLINE/text()')\n",
    "        intro = doc.xpath('.//INTRO/text()')\n",
    "        text = \" \".join(doc.xpath('.//TEXT//text()'))\n",
    "        \n",
    "        data.append({\n",
    "            'guid': guid,\n",
    "            'modified': modified,\n",
    "            'section': section[0].strip() if section else None,\n",
    "            'publication_date': publication_date[0] if publication_date else None,\n",
    "            'page_no': page_no[0].strip() if page_no else None,\n",
    "            'byline': byline[0].strip() if byline else None,\n",
    "            'classifications': classifications if classifications else None,\n",
    "            'headline': headline[0].strip() if headline else None,\n",
    "            'intro': intro[0].strip() if intro else None,\n",
    "            'text': text.strip() if text else None,\n",
    "        })\n",
    "\n",
    "df = pd.DataFrame(data)\n",
    "df['modified'] = pd.to_datetime(df['modified'])\n",
    "df['publication_date'] = pd.to_datetime(df['publication_date'], errors='coerce')\n"
   ]
  },
  {
   "cell_type": "code",
   "execution_count": 4,
   "metadata": {},
   "outputs": [],
   "source": [
    "jsonData = convert_to_adage_json(df)"
   ]
  },
  {
   "cell_type": "code",
   "execution_count": null,
   "metadata": {},
   "outputs": [],
   "source": [
    "print(jsonData)"
   ]
  },
  {
   "cell_type": "code",
   "execution_count": 6,
   "metadata": {},
   "outputs": [],
   "source": [
    "def json_to_df(jsonObj):\n",
    "    jsonEvent = json.loads(jsonObj)\n",
    "    processed_events = []\n",
    "\n",
    "    for event in jsonEvent['events']:\n",
    "        headline = event[\"attribute\"][\"headline\"]\n",
    "        byline = event[\"attribute\"][\"byline\"]\n",
    "        text = event[\"attribute\"][\"text\"]\n",
    "        length = len(text.split()) if text else 0\n",
    "        processed_events.append({\n",
    "            \"headlines\": headline,\n",
    "            \"bylines\": byline,\n",
    "            \"text\": text,\n",
    "            \"length\": length\n",
    "        })\n",
    "        \n",
    "    events_df = pd.DataFrame(processed_events)\n",
    "    return events_df"
   ]
  },
  {
   "cell_type": "code",
   "execution_count": 7,
   "metadata": {},
   "outputs": [],
   "source": [
    "df_data = json_to_df(jsonData)"
   ]
  },
  {
   "cell_type": "code",
   "execution_count": null,
   "metadata": {},
   "outputs": [],
   "source": [
    "df_data"
   ]
  },
  {
   "cell_type": "code",
   "execution_count": 9,
   "metadata": {},
   "outputs": [
    {
     "data": {
      "text/plain": [
       "count    1975.000000\n",
       "mean      607.266329\n",
       "std       456.158851\n",
       "min         0.000000\n",
       "25%       328.000000\n",
       "50%       536.000000\n",
       "75%       736.000000\n",
       "max      5146.000000\n",
       "Name: length, dtype: float64"
      ]
     },
     "execution_count": 9,
     "metadata": {},
     "output_type": "execute_result"
    },
    {
     "data": {
      "image/png": "[encoded data removed]",
      "text/plain": [
       "<Figure size 640x480 with 1 Axes>"
      ]
     },
     "metadata": {},
     "output_type": "display_data"
    }
   ],
   "source": [
    "df_data['length'].plot.hist(bins=50)\n",
    "df_data['length'].describe()"
   ]
  },
  {
   "cell_type": "code",
   "execution_count": 10,
   "metadata": {},
   "outputs": [],
   "source": [
    "def clean_and_stem(txt, stopwords, punctuation_filter, symbols_filter, stemmer): \n",
    "    txt = txt.lower()\n",
    "    txt = punctuation_filter.sub(' ', txt)\n",
    "    txt = symbols_filter.sub('', txt)\n",
    "\n",
    "    words = txt.split()\n",
    "\n",
    "    filtered_words = [word for word in words if word not in stopwords]\n",
    "\n",
    "    stemmed_words = [stemmer.stem(word) for word in filtered_words]\n",
    "\n",
    "    clean_stemmed_txt = ' '.join(stemmed_words)\n",
    "    return clean_stemmed_txt"
   ]
  },
  {
   "cell_type": "code",
   "execution_count": 11,
   "metadata": {},
   "outputs": [],
   "source": [
    "REPLACE_BY_SPACE_RE = re.compile('[/(){}\\[\\]\\|@,;]')\n",
    "BAD_SYMBOLS_RE = re.compile('[^0-9a-zA-Z #+_]')\n",
    "STOPWORDS = set(stopwords.words('english'))\n",
    "stemmer = PorterStemmer()\n",
    "df_data['clean_text'] = df_data['text'].apply(lambda x: clean_and_stem(x, STOPWORDS, REPLACE_BY_SPACE_RE, BAD_SYMBOLS_RE, stemmer))"
   ]
  },
  {
   "cell_type": "code",
   "execution_count": null,
   "metadata": {},
   "outputs": [],
   "source": [
    "df_data"
   ]
  },
  {
   "cell_type": "code",
   "execution_count": null,
   "metadata": {},
   "outputs": [],
   "source": [
    "df_data['clean_length'] = df_data['clean_text'].apply(lambda x: len(x.split()))\n",
    "df_data"
   ]
  },
  {
   "cell_type": "code",
   "execution_count": null,
   "metadata": {},
   "outputs": [],
   "source": [
    "def clean_text_for_ner(txt, stopwords, punctuation_filter, symbols_filter):\n",
    "    txt = punctuation_filter.sub(' ', txt)\n",
    "    txt = symbols_filter.sub('', txt)\n",
    "    words = txt.split()\n",
    "    filtered_words = [word for word in words if word.lower() not in stopwords]\n",
    "    clean_txt = ' '.join(filtered_words)\n",
    "\n",
    "    return clean_txt\n",
    "\n",
    "df_data['text_for_ner'] = df_data['text'].apply(lambda x: clean_text_for_ner(x, STOPWORDS, REPLACE_BY_SPACE_RE, BAD_SYMBOLS_RE))\n",
    "df_data"
   ]
  },
  {
   "cell_type": "code",
   "execution_count": 17,
   "metadata": {},
   "outputs": [],
   "source": [
    "def named_entity_recognition(tagged_tokens):\n",
    "    tree = ne_chunk(tagged_tokens)\n",
    "    return tree\n",
    "\n",
    "def get_continuous_chunks(text, chunk_func=named_entity_recognition):\n",
    "    chunked = chunk_func(pos_tag(word_tokenize(text)))\n",
    "    continuous_chunk = []\n",
    "    current_chunk = []\n",
    "\n",
    "    for i in chunked:\n",
    "        if type(i) == Tree:\n",
    "            current_chunk.append(\" \".join([token for token, pos in i.leaves()]))\n",
    "        else:\n",
    "            if current_chunk:\n",
    "                named_entity = \" \".join(current_chunk)\n",
    "                if named_entity not in continuous_chunk:\n",
    "                    continuous_chunk.append(named_entity)\n",
    "                current_chunk = []\n",
    "\n",
    "    if current_chunk:\n",
    "        named_entity = \" \".join(current_chunk)\n",
    "        if named_entity not in continuous_chunk:\n",
    "            continuous_chunk.append(named_entity)\n",
    "    return continuous_chunk\n"
   ]
  },
  {
   "cell_type": "code",
   "execution_count": 18,
   "metadata": {},
   "outputs": [],
   "source": [
    "df_data['named_entities'] = df_data['text_for_ner'].apply(get_continuous_chunks)    "
   ]
  },
  {
   "cell_type": "code",
   "execution_count": null,
   "metadata": {},
   "outputs": [],
   "source": [
    "df_data"
   ]
  },
  {
   "cell_type": "code",
   "execution_count": null,
   "metadata": {},
   "outputs": [],
   "source": [
    "def pos_tagging(text):\n",
    "    word_tokens = word_tokenize(text)\n",
    "    return pos_tag(word_tokens)\n",
    "\n",
    "def apply_nlp_operations(events_df):\n",
    "    events_df['pos_tags'] = events_df['text_for_ner'].apply(pos_tagging)\n",
    "    return events_df\n",
    "\n",
    "df_data = apply_nlp_operations(df_data)\n",
    "df_data"
   ]
  },
  {
   "cell_type": "code",
   "execution_count": null,
   "metadata": {},
   "outputs": [],
   "source": [
    "def chunking(tagged_tokens, grammar='NP: {<DT>?<JJ>*<NN>}'):\n",
    "    cp = RegexpParser(grammar)\n",
    "    tree = cp.parse(tagged_tokens)\n",
    "    return tree\n",
    "\n",
    "df_data['noun_phrases'] = df_data['pos_tags'].apply(lambda tags: chunking(tags, grammar='NP: {<DT>?<JJ>*<NN>}'))\n",
    "\n",
    "df_data"
   ]
  },
  {
   "cell_type": "code",
   "execution_count": null,
   "metadata": {},
   "outputs": [],
   "source": [
    "\n",
    "df_data['pos_tags']"
   ]
  },
  {
   "cell_type": "code",
   "execution_count": null,
   "metadata": {},
   "outputs": [],
   "source": [
    "df_data['noun_phrases']"
   ]
  },
  {
   "cell_type": "code",
   "execution_count": 36,
   "metadata": {},
   "outputs": [],
   "source": [
    "def tree2conll_single(n_phrase):\n",
    "    iob_tagged = tree2conlltags(n_phrase)\n",
    "    return iob_tagged\n",
    "    "
   ]
  },
  {
   "cell_type": "code",
   "execution_count": null,
   "metadata": {},
   "outputs": [],
   "source": [
    "df_data['extracted_chunks'] = df_data['noun_phrases'].apply(tree2conll_single)\n",
    "\n",
    "df_data"
   ]
  },
  {
   "cell_type": "code",
   "execution_count": null,
   "metadata": {},
   "outputs": [],
   "source": [
    "df_data['extracted_chunks'] "
   ]
  },
  {
   "cell_type": "code",
   "execution_count": null,
   "metadata": {},
   "outputs": [],
   "source": [
    "df_data['named_entities_str'] = df_data['named_entities'].apply(lambda x: ', '.join(map(str, x)))\n",
    "df_data['named_entities_str']"
   ]
  },
  {
   "cell_type": "code",
   "execution_count": null,
   "metadata": {},
   "outputs": [],
   "source": [
    "n_entitites_df = df_data['named_entities_str']\n",
    "n_entitites_df = pd.DataFrame(n_entitites_df)\n",
    "\n",
    "n_entities_str= n_entitites_df['named_entities_str'].str.split(\",\", expand = True)\n",
    "n_entities_str = n_entities_str.stack().reset_index()\n",
    "n_entities_str['top_n_entities'] = n_entities_str.iloc[:,-1:]\n",
    "res = n_entities_str['top_n_entities']\n",
    "\n",
    "top_N = 1000\n",
    "word_dist = nltk.FreqDist(res)\n",
    "rslt = pd.DataFrame(word_dist.most_common(top_N),\n",
    "                    columns=['top_n_entities', 'Frequency'])\n",
    "\n",
    "rslt.to_csv(r'names.csv')\n",
    "rslt\n"
   ]
  }
 ],
 "metadata": {
  "kernelspec": {
   "display_name": "seng",
   "language": "python",
   "name": "python3"
  },
  "language_info": {
   "codemirror_mode": {
    "name": "ipython",
    "version": 3
   },
   "file_extension": ".py",
   "mimetype": "text/x-python",
   "name": "python",
   "nbconvert_exporter": "python",
   "pygments_lexer": "ipython3",
   "version": "3.11.5"
  }
 },
 "nbformat": 4,
 "nbformat_minor": 2
}
