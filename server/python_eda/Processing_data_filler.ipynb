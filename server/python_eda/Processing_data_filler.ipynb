{
 "cells": [
  {
   "cell_type": "code",
   "execution_count": 1,
   "metadata": {},
   "outputs": [],
   "source": [
    "import json\n",
    "import os"
   ]
  },
  {
   "cell_type": "code",
   "execution_count": 6,
   "metadata": {},
   "outputs": [],
   "source": [
    "with open('guids.json', 'r') as file:\n",
    "    guids_data = json.load(file)\n",
    "valid_guids = set(guids_data['guids'])\n",
    "\n",
    "filtered_events = []\n",
    "\n",
    "for year in range(2015, 2022):\n",
    "    filename = f'{year}_full.json'\n",
    "    if os.path.exists(filename):\n",
    "        with open(filename, 'r') as file:\n",
    "            data_year = json.load(file)\n",
    "        \n",
    "        # Process each event in the current year's file\n",
    "        for event in data_year['events']:\n",
    "            guid = event['attribute']['guid']\n",
    "            if guid in valid_guids:\n",
    "                filtered_event = {\n",
    "                    guid: {\n",
    "                        'sentiment_polarity': event['attribute']['sentiment_polarity'],\n",
    "                        'sentiment_subjectivity': event['attribute']['sentiment_subjectivity'],\n",
    "                        'avg_sentence_length': event['attribute']['avg_sentence_length'],\n",
    "                        'named_entities': event['attribute']['named_entities'],\n",
    "                        'topic': event['attribute']['topic']\n",
    "                    }\n",
    "                }\n",
    "                filtered_events.append(filtered_event)\n",
    "    else:\n",
    "        print(f\"File not found: {filename}\")\n",
    "\n",
    "output_data = {'articles': filtered_events}\n",
    "\n",
    "with open('filtered_events.json', 'w') as file:\n",
    "    json.dump(output_data, file)\n",
    "\n",
    "filtered_events = filtered_events\n",
    "    \n",
    "# Split the data into many json files to avoid memory issues on the Lambda function\n",
    "step = 3000\n",
    "\n",
    "for i in range(0, len(filtered_events), step):\n",
    "    data_items = filtered_events[i:i+step]\n",
    "    # Making guid the key\n",
    "    data_items = {list(item.keys())[0]: list(item.values())[0] for item in data_items}\n",
    "    output_data = {'articles': data_items}\n",
    "    with open(f'results/filtered_events_{i//step}.json', 'w') as file:\n",
    "        json.dump(output_data, file)\n"
   ]
  }
 ],
 "metadata": {
  "kernelspec": {
   "display_name": "Python 3 (ipykernel)",
   "language": "python",
   "name": "python3"
  },
  "language_info": {
   "codemirror_mode": {
    "name": "ipython",
    "version": 3
   },
   "file_extension": ".py",
   "mimetype": "text/x-python",
   "name": "python",
   "nbconvert_exporter": "python",
   "pygments_lexer": "ipython3",
   "version": "3.12.2"
  }
 },
 "nbformat": 4,
 "nbformat_minor": 4
}
